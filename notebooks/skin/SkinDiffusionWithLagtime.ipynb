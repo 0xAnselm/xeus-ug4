{
 "cells": [
  {
   "cell_type": "markdown",
   "metadata": {},
   "source": [
    "# Drug Transport across a Virtual Skin Membrane:  Extended version\n",
    "[Previous Version](SkinDiffusion.ipybnd)"
   ]
  },
  {
   "cell_type": "markdown",
   "metadata": {},
   "source": [
    "## 1. Setup\n",
    "\n",
    "### Initialize UG4 (for 2D and standard algebra)"
   ]
  },
  {
   "cell_type": "code",
   "execution_count": 1,
   "metadata": {},
   "outputs": [
    {
     "data": {
      "text/plain": [
       "* Initializing: paths... done, bridge... done, plugins... fail                 *\n"
      ]
     },
     "execution_count": 1,
     "metadata": {},
     "output_type": "execute_result"
    }
   ],
   "source": [
    "InitUG(2, AlgebraType(\"CPU\", 1));\n",
    "ug_load_script(\"ug_util.lua\")\n",
    "ug_load_script(\"util/refinement_util.lua\")"
   ]
  },
  {
   "cell_type": "markdown",
   "metadata": {},
   "source": [
    "### Create Domain"
   ]
  },
  {
   "cell_type": "code",
   "execution_count": 2,
   "metadata": {},
   "outputs": [
    {
     "data": {
      "text/plain": []
     },
     "execution_count": 2,
     "metadata": {},
     "output_type": "execute_result"
    }
   ],
   "source": [
    "requiredSubsets = {\"LIP\", \"COR\", \"BOTTOM_SC\", \"TOP_SC\"}\n",
    "gridName = \"skin2d-aniso.ugx\"\n",
    "numRefs = 2"
   ]
  },
  {
   "cell_type": "code",
   "execution_count": 3,
   "metadata": {},
   "outputs": [
    {
     "data": {
      "text/plain": [
       "Loading Domain skin2d-aniso.ugx ... done.\n",
       "Performing integrity check on domain ... done.\n",
       "Refining(2): 1 2 done.\n"
      ]
     },
     "execution_count": 3,
     "metadata": {},
     "output_type": "execute_result"
    }
   ],
   "source": [
    "dom = util.CreateDomain(gridName, numRefs, requiredSubsets)"
   ]
  },
  {
   "cell_type": "markdown",
   "metadata": {},
   "source": [
    "### Create Approximation space"
   ]
  },
  {
   "cell_type": "code",
   "execution_count": 4,
   "metadata": {},
   "outputs": [
    {
     "data": {
      "text/plain": []
     },
     "execution_count": 4,
     "metadata": {},
     "output_type": "execute_result"
    }
   ],
   "source": [
    "approxSpaceDesc = { fct = \"u\", type = \"Lagrange\", order = 1 }"
   ]
  },
  {
   "cell_type": "code",
   "execution_count": 5,
   "metadata": {},
   "outputs": [
    {
     "data": {
      "text/plain": [
       "Approximation space:\n",
       "| ----------------------------------------------------------------------------------------- |\n",
       "|  Number of DoFs (All Procs)                                                               |\n",
       "|  Algebra: Block 1 (divide by 1 for #Index)                                                |\n",
       "|                                                                                           |\n",
       "|    GridLevel   |       Domain |       0: LIP |       1: COR | 2: BOTTOM_SC |    3: TOP_SC |\n",
       "| ----------------------------------------------------------------------------------------- |\n",
       "| (lev,    0)    |          680 |           32 |          608 |           20 |           20 |\n",
       "| (lev,    1)    |         2613 |          783 |         1752 |           39 |           39 |\n",
       "| (lev,    2)    |        10241 |         4367 |         5720 |           77 |           77 |\n",
       "| (lev,    0, g) |          680 |           32 |          608 |           20 |           20 |\n",
       "| (lev,    1, g) |         2613 |          783 |         1752 |           39 |           39 |\n",
       "| (lev,    2, g) |        10241 |         4367 |         5720 |           77 |           77 |\n",
       "| (surf, top)    |        10241 |         4367 |         5720 |           77 |           77 |\n",
       "| ----------------------------------------------------------------------------------------- |\n",
       "| For Legend and Options: print_statistic(\"legend\").                                        |\n",
       "| ----------------------------------------------------------------------------------------- |\n"
      ]
     },
     "execution_count": 5,
     "metadata": {},
     "output_type": "execute_result"
    }
   ],
   "source": [
    "approxSpace = ApproximationSpace(dom)\n",
    "approxSpace:add_fct(approxSpaceDesc.fct, approxSpaceDesc.type, approxSpaceDesc.order)\n",
    "approxSpace:init_levels()\n",
    "approxSpace:init_top_surface()\n",
    "print(\"Approximation space:\")\n",
    "approxSpace:print_statistic()"
   ]
  },
  {
   "cell_type": "markdown",
   "metadata": {},
   "source": [
    "### Create a convection-diffusion-equation\n",
    "Define model parameter"
   ]
  },
  {
   "cell_type": "code",
   "execution_count": 6,
   "metadata": {},
   "outputs": [
    {
     "data": {
      "text/plain": []
     },
     "execution_count": 6,
     "metadata": {},
     "output_type": "execute_result"
    }
   ],
   "source": [
    "K={\n",
    "    [\"LIP\"] = 1.0, [\"COR\"] = 1.0,\n",
    "}\n",
    "\n",
    "D={\n",
    "     [\"LIP\"] = 1, [\"COR\"] = 0.01, \n",
    "}\n"
   ]
  },
  {
   "cell_type": "code",
   "execution_count": 7,
   "metadata": {},
   "outputs": [
    {
     "data": {
      "text/plain": []
     },
     "execution_count": 7,
     "metadata": {},
     "output_type": "execute_result"
    }
   ],
   "source": [
    "elemDisc ={}\n",
    "\n",
    "elemDisc[\"COR\"] = ConvectionDiffusion(\"u\", \"COR\", \"fv1\")\n",
    "elemDisc[\"COR\"]:set_diffusion(K[\"COR\"]*D[\"COR\"])\n",
    "elemDisc[\"COR\"]:set_mass_scale(K[\"COR\"])\n",
    "\n",
    "elemDisc[\"LIP\"] = ConvectionDiffusion(\"u\", \"LIP\", \"fv1\")\n",
    "elemDisc[\"LIP\"]:set_diffusion(K[\"LIP\"]*D[\"LIP\"])\n",
    "elemDisc[\"LIP\"]:set_mass_scale(K[\"LIP\"])"
   ]
  },
  {
   "cell_type": "code",
   "execution_count": 8,
   "metadata": {},
   "outputs": [
    {
     "data": {
      "text/plain": []
     },
     "execution_count": 8,
     "metadata": {},
     "output_type": "execute_result"
    }
   ],
   "source": [
    "dirichletBnd = DirichletBoundary()\n",
    "dirichletBnd:add(1.0, \"u\", \"TOP_SC\")\n",
    "dirichletBnd:add(0.0, \"u\", \"BOTTOM_SC\")"
   ]
  },
  {
   "cell_type": "code",
   "execution_count": 9,
   "metadata": {},
   "outputs": [
    {
     "data": {
      "text/plain": []
     },
     "execution_count": 9,
     "metadata": {},
     "output_type": "execute_result"
    }
   ],
   "source": [
    "domainDisc = DomainDiscretization(approxSpace)\n",
    "domainDisc:add(elemDisc[\"LIP\"])\n",
    "domainDisc:add(elemDisc[\"COR\"])\n",
    "domainDisc:add(dirichletBnd)"
   ]
  },
  {
   "cell_type": "markdown",
   "metadata": {},
   "source": [
    "## 2. Steady state problem\n",
    "Flux is computed from steady state. Since configuration of a multigrid solver is somewhat tricky, we use an LU decomposition here:"
   ]
  },
  {
   "cell_type": "code",
   "execution_count": 10,
   "metadata": {},
   "outputs": [
    {
     "data": {
      "text/plain": []
     },
     "execution_count": 10,
     "metadata": {},
     "output_type": "execute_result"
    }
   ],
   "source": [
    "A = AssembledLinearOperator(domainDisc)\n",
    "u = GridFunction(approxSpace)\n",
    "b = GridFunction(approxSpace)\n",
    "u:set(0.0)\n",
    "\n",
    "\n",
    "domainDisc:assemble_linear(A, b)\n",
    "domainDisc:adjust_solution(u)\n",
    "\n",
    "myLinearSolver =LU()\n",
    "myLinearSolver:init(A, u)\n",
    "myLinearSolver:apply(u, b)"
   ]
  },
  {
   "cell_type": "markdown",
   "metadata": {},
   "source": [
    "Compute $J_\\infty=J(t=\\infty)$ for\n",
    "$$ J(t)=\\frac{1}{|\\Gamma|}\\int_\\Gamma (-KD \\nabla u(t,x)) \\cdot \\vec n dA$$"
   ]
  },
  {
   "cell_type": "code",
   "execution_count": 11,
   "metadata": {},
   "outputs": [
    {
     "data": {
      "text/plain": [
       "Surface area [um^2]:\n",
       "30.1\n",
       "Surface fluxes [kg/s]:\n",
       "-0.021331943805368\n",
       "0.021331943805564\n",
       "Normalized Fluxes [kg / (mu^2 * s)]:\n",
       "-0.00070870245200557\n",
       "0.0007087024520121\n",
       "Non Fluxes [kg / (mu^2 * s)]:\n",
       "-0.012473163155299\n",
       "0.012473163155413\n"
      ]
     },
     "execution_count": 11,
     "metadata": {},
     "output_type": "execute_result"
    }
   ],
   "source": [
    "area=Integral(1.0, u, \"BOTTOM_SC\")\n",
    "print(\"Surface area [um^2]:\")\n",
    "print(area)\n",
    "\n",
    "surfaceFlux = {}\n",
    "surfaceFlux[\"BOT\"] = K[\"LIP\"]*D[\"LIP\"]*IntegrateNormalGradientOnManifold(u, \"u\", \"BOTTOM_SC\", \"LIP\")\n",
    "surfaceFlux[\"TOP\"] = K[\"LIP\"]*D[\"LIP\"]*IntegrateNormalGradientOnManifold(u, \"u\", \"TOP_SC\", \"LIP\")\n",
    "print(\"Surface fluxes [kg/s]:\")\n",
    "print(surfaceFlux[\"TOP\"])\n",
    "print(surfaceFlux[\"BOT\"])\n",
    "\n",
    "print(\"Normalized Fluxes [kg / (mu^2 * s)]:\")\n",
    "print(surfaceFlux[\"TOP\"]/area)\n",
    "print(surfaceFlux[\"BOT\"]/area)\n",
    "\n",
    "Jref = 0.05681818181818\n",
    "\n",
    "print(\"Non Fluxes [kg / (mu^2 * s)]:\")\n",
    "print(surfaceFlux[\"TOP\"]/(area*Jref))\n",
    "print(surfaceFlux[\"BOT\"]/(area*Jref))"
   ]
  },
  {
   "cell_type": "markdown",
   "metadata": {},
   "source": [
    "## 3. Transient problem"
   ]
  },
  {
   "cell_type": "markdown",
   "metadata": {},
   "source": [
    "After each time-step, we execute a a callback function `MyPostProcess`. In this function, print the solution and compute\n",
    "$$\n",
    "m(t_k):= \\int_0^{t_k} J(s) \\, ds \\approx \\sum_{i=1}^k(t_{i}- t_{i-1}) \\frac{J(t_{i-1}) +J(t_i)}{2} \n",
    "$$\n",
    "using the trapeziod rule. Moreover, we also compute the lag time $\\tau$ from $m(t_k) = J_\\infty(t_k - \\tau)$.\n"
   ]
  },
  {
   "cell_type": "code",
   "execution_count": 12,
   "metadata": {},
   "outputs": [
    {
     "data": {
      "text/plain": []
     },
     "execution_count": 12,
     "metadata": {},
     "output_type": "execute_result"
    }
   ],
   "source": [
    "-- auxiliary variables\n",
    "-- for output \n",
    "out=VTKOutput()\n",
    "\n",
    "-- for book-keeping\n",
    "tOld = 0.0\n",
    "jOld = 0.0\n",
    "mOld = 0.0\n",
    "\n",
    "\n",
    "function MyPostProcess(u, step, time)\n",
    "  \n",
    "  -- 1) Print solution to file.\n",
    "  out:print(\"vtk/SkinDiffusionWithLagtime\", u, step, time)\n",
    "  \n",
    "  -- 2) Compute fluxes.\n",
    "  local gradFlux={}\n",
    "  gradFlux[\"BOT\"] = IntegrateNormalGradientOnManifold(u, \"u\", \"BOTTOM_SC\", \"LIP\")\n",
    "  gradFlux[\"TOP\"] = IntegrateNormalGradientOnManifold(u, \"u\", \"TOP_SC\", \"LIP\")\n",
    "  \n",
    "  local jTOP = K[\"LIP\"]*D[\"LIP\"]*gradFlux[\"TOP\"]\n",
    "  local jBOT = K[\"LIP\"]*D[\"LIP\"]*gradFlux[\"BOT\"]\n",
    "  print (\"flux_top (\\t\"..time..\"\\t)=\\t\"..jTOP)\n",
    "  print (\"flux_bot (\\t\"..time..\"\\t)=\\t\"..jBOT)\n",
    "  \n",
    "  -- 3) Compute mass.\n",
    "  local dt = time - tOld\n",
    "  local mass = mOld + (time - tOld)*(jBOT + jOld)/2.0\n",
    "  print (\"mass_bot (\\t\"..time..\"\\t)=\\t\"..mass)\n",
    "  \n",
    "  -- 4) Compute lag time.\n",
    "  print (\"tlag=\".. time - mass/jBOT )\n",
    "  \n",
    "  -- 5) Updates\n",
    "  tOld = time\n",
    "  jOld = jBOT\n",
    "  mOld = mass\n",
    "\n",
    "end"
   ]
  },
  {
   "cell_type": "markdown",
   "metadata": {},
   "source": [
    "### Solve transient problem\n",
    "For the purpose of illustration, we solve using `SolveNonlinearTimeProblem`:\n",
    "\n",
    " * First, we create a non-linear solver:"
   ]
  },
  {
   "cell_type": "code",
   "execution_count": 13,
   "metadata": {},
   "outputs": [
    {
     "data": {
      "text/plain": []
     },
     "execution_count": 13,
     "metadata": {},
     "output_type": "execute_result"
    }
   ],
   "source": [
    "local solverDesc = {\n",
    "\n",
    "    type = \"newton\",\n",
    "    linSolver = myLinearSolver,\n",
    "}\n",
    "\n",
    "nlsolver = util.solver.CreateSolver(solverDesc)"
   ]
  },
  {
   "cell_type": "markdown",
   "metadata": {},
   "source": [
    "* Set initial value  "
   ]
  },
  {
   "cell_type": "code",
   "execution_count": 14,
   "metadata": {},
   "outputs": [
    {
     "data": {
      "text/plain": []
     },
     "execution_count": 14,
     "metadata": {},
     "output_type": "execute_result"
    }
   ],
   "source": [
    "u:set(0.0)"
   ]
  },
  {
   "cell_type": "markdown",
   "metadata": {},
   "source": [
    "* Execute time stepping loop w/ fixed time-step "
   ]
  },
  {
   "cell_type": "code",
   "execution_count": 15,
   "metadata": {
    "scrolled": true
   },
   "outputs": [
    {
     "data": {
      "text/plain": [
       "SolveNonlinearTimeProblem, Newton Solver setup:\n",
       "NewtonSolver\n",
       " LinearSolver: \n",
       " | LU Decomposition: Direct Solver for Linear Equation Systems.\n",
       " |  Minimum Entries for Sparse LU: 4000\n",
       " ConvergenceCheck: StdConvCheck( max steps = 100, min defect = 1e-12, relative reduction = 1e-06)\n",
       " LineSearch:  not set.\n",
       "\n",
       ">> Writing start values\n",
       "flux_top (\t0\t)=\t0\n",
       "flux_bot (\t0\t)=\t0\n",
       "mass_bot (\t0\t)=\t0\n",
       "tlag=nan\n",
       "++++++ TIMESTEP 1 BEGIN (current time: 0) ++++++\n",
       "++++++ Time step size: 25\n",
       "\n",
       "   # ########     Newton Solver     #######################\n",
       "   # ########  (Linear Solver: LU)  #######################\n",
       "   #   Iter      Defect         Rate \n",
       "   #    0:    7.421977e+03      -------\n",
       "   #    1:    3.611000e-12    4.865281e-16\n",
       "   # Relative reduction 1.000000e-06 reached after 1 steps.\n",
       "   # Average reduction over 1 steps: 4.865281e-16\n",
       "   # #####  Iteration converged  #####\n",
       "\n",
       "flux_top (\t25\t)=\t-0.72291523102227\n",
       "flux_bot (\t25\t)=\t2.4713227150495e-13\n",
       "mass_bot (\t25\t)=\t3.0891533938119e-12\n",
       "tlag=12.5\n",
       "++++++ TIMESTEP 1 END   (current time: 25) ++++++\n",
       "++++++ TIMESTEP 2 BEGIN (current time: 25) ++++++\n",
       "++++++ Time step size: 25\n",
       "\n",
       "   # ########     Newton Solver     #######################\n",
       "   # ########  (Linear Solver: LU)  #######################\n",
       "   #   Iter      Defect         Rate \n",
       "   #    0:    8.812092e-01      -------\n",
       "   #    1:    1.528293e-12    1.734313e-12\n",
       "   # Relative reduction 1.000000e-06 reached after 1 steps.\n",
       "   # Average reduction over 1 steps: 1.734313e-12\n",
       "   # #####  Iteration converged  #####\n",
       "\n",
       "flux_top (\t50\t)=\t-0.3232549148301\n",
       "flux_bot (\t50\t)=\t3.2496892731141e-12\n",
       "mass_bot (\t50\t)=\t4.679942270155e-11\n",
       "tlag=35.598800756509\n",
       "++++++ TIMESTEP 2 END   (current time: 50) ++++++\n",
       "++++++ TIMESTEP 3 BEGIN (current time: 50) ++++++\n",
       "++++++ Time step size: 25\n",
       "\n",
       "   # ########     Newton Solver     #######################\n",
       "   # ########  (Linear Solver: LU)  #######################\n",
       "   #   Iter      Defect         Rate \n",
       "   #    0:    3.194549e-01      -------\n",
       "   #    1:    1.560209e-12    4.883974e-12\n",
       "   # Relative reduction 1.000000e-06 reached after 1 steps.\n",
       "   # Average reduction over 1 steps: 4.883974e-12\n",
       "   # #####  Iteration converged  #####\n",
       "\n",
       "flux_top (\t75\t)=\t-0.24754822010749\n",
       "flux_bot (\t75\t)=\t2.2511402530585e-11\n",
       "mass_bot (\t75\t)=\t3.6881307024779e-10\n",
       "tlag=58.616610748855\n",
       "++++++ TIMESTEP 3 END   (current time: 75) ++++++\n",
       "++++++ TIMESTEP 4 BEGIN (current time: 75) ++++++\n",
       "++++++ Time step size: 25\n",
       "\n",
       "   # ########     Newton Solver     #######################\n",
       "   # ########  (Linear Solver: LU)  #######################\n",
       "   #   Iter      Defect         Rate \n",
       "   #    0:    2.079972e-01      -------\n",
       "   #    1:    1.641671e-12    7.892756e-12\n",
       "   # Relative reduction 1.000000e-06 reached after 1 steps.\n",
       "   # Average reduction over 1 steps: 7.892756e-12\n",
       "   # #####  Iteration converged  #####\n",
       "\n",
       "flux_top (\t100\t)=\t-0.20736584636641\n",
       "flux_bot (\t100\t)=\t1.0932510807526e-10\n",
       "mass_bot (\t100\t)=\t2.0167694528208e-09\n",
       "tlag=81.552550111064\n",
       "++++++ TIMESTEP 4 END   (current time: 100) ++++++\n",
       "++++++ TIMESTEP 5 BEGIN (current time: 100) ++++++\n",
       "++++++ Time step size: 25\n",
       "\n",
       "   # ########     Newton Solver     #######################\n",
       "   # ########  (Linear Solver: LU)  #######################\n",
       "   #   Iter      Defect         Rate \n",
       "   #    0:    1.588466e-01      -------\n",
       "   #    1:    1.720278e-12    1.082980e-11\n",
       "   # Relative reduction 1.000000e-06 reached after 1 steps.\n",
       "   # Average reduction over 1 steps: 1.082980e-11\n",
       "   # #####  Iteration converged  #####\n",
       "\n",
       "flux_top (\t125\t)=\t-0.18191029180669\n",
       "flux_bot (\t125\t)=\t4.1796746045687e-10\n",
       "mass_bot (\t125\t)=\t8.6079265594724e-09\n",
       "tlag=104.40527104655\n",
       "++++++ TIMESTEP 5 END   (current time: 125) ++++++\n",
       "++++++ TIMESTEP 6 BEGIN (current time: 125) ++++++\n",
       "++++++ Time step size: 25\n",
       "\n",
       "   # ########     Newton Solver     #######################\n",
       "   # ########  (Linear Solver: LU)  #######################\n",
       "   #   Iter      Defect         Rate \n",
       "   #    0:    1.307489e-01      -------\n",
       "   #    1:    1.635190e-12    1.250634e-11\n",
       "   # Relative reduction 1.000000e-06 reached after 1 steps.\n",
       "   # Average reduction over 1 steps: 1.250634e-11\n",
       "   # #####  Iteration converged  #####\n",
       "\n",
       "flux_top (\t150\t)=\t-0.16401563201433\n",
       "flux_bot (\t150\t)=\t1.3394561205686e-09\n",
       "mass_bot (\t150\t)=\t3.0575721322291e-08\n",
       "tlag=127.17303250717\n",
       "++++++ TIMESTEP 6 END   (current time: 150) ++++++\n",
       "++++++ TIMESTEP 7 BEGIN (current time: 150) ++++++\n",
       "++++++ Time step size: 25\n",
       "\n",
       "   # ########     Newton Solver     #######################\n",
       "   # ########  (Linear Solver: LU)  #######################\n",
       "   #   Iter      Defect         Rate \n",
       "   #    0:    1.121943e-01      -------\n",
       "   #    1:    1.755239e-12    1.564464e-11\n",
       "   # Relative reduction 1.000000e-06 reached after 1 steps.\n",
       "   # Average reduction over 1 steps: 1.564464e-11\n",
       "   # #####  Iteration converged  #####\n",
       "\n",
       "flux_top (\t175\t)=\t-0.15056409605811\n",
       "flux_bot (\t175\t)=\t3.7417468084783e-09\n",
       "mass_bot (\t175\t)=\t9.4090757935377e-08\n",
       "tlag=149.85378814991\n",
       "++++++ TIMESTEP 7 END   (current time: 175) ++++++\n",
       "++++++ TIMESTEP 8 BEGIN (current time: 175) ++++++\n",
       "++++++ Time step size: 25\n",
       "\n",
       "   # ########     Newton Solver     #######################\n",
       "   # ########  (Linear Solver: LU)  #######################\n",
       "   #   Iter      Defect         Rate \n",
       "   #    0:    9.885328e-02      -------\n",
       "   #    1:    1.749768e-12    1.770066e-11\n",
       "   # Relative reduction 1.000000e-06 reached after 1 steps.\n",
       "   # Average reduction over 1 steps: 1.770066e-11\n",
       "   # #####  Iteration converged  #####\n",
       "\n",
       "flux_top (\t200\t)=\t-0.1399737725132\n",
       "flux_bot (\t200\t)=\t9.3567044161412e-09\n",
       "mass_bot (\t200\t)=\t2.5782139824312e-07\n",
       "tlag=172.44527701459\n",
       "++++++ TIMESTEP 8 END   (current time: 200) ++++++\n",
       "++++++ TIMESTEP 9 BEGIN (current time: 200) ++++++\n",
       "++++++ Time step size: 25\n",
       "\n",
       "   # ########     Newton Solver     #######################\n",
       "   # ########  (Linear Solver: LU)  #######################\n",
       "   #   Iter      Defect         Rate \n",
       "   #    0:    8.871673e-02      -------\n",
       "   #    1:    1.759997e-12    1.983839e-11\n",
       "   # Relative reduction 1.000000e-06 reached after 1 steps.\n",
       "   # Average reduction over 1 steps: 1.983839e-11\n",
       "   # #####  Iteration converged  #####\n",
       "\n",
       "flux_top (\t225\t)=\t-0.13135104585959\n",
       "flux_bot (\t225\t)=\t2.134904799297e-08\n",
       "mass_bot (\t225\t)=\t6.4164330335701e-07\n",
       "tlag=194.94510932908\n",
       "++++++ TIMESTEP 9 END   (current time: 225) ++++++\n",
       "++++++ TIMESTEP 10 BEGIN (current time: 225) ++++++\n",
       "++++++ Time step size: 25\n",
       "\n",
       "   # ########     Newton Solver     #######################\n",
       "   # ########  (Linear Solver: LU)  #######################\n",
       "   #   Iter      Defect         Rate \n",
       "   #    0:    8.071167e-02      -------\n",
       "   #    1:    1.860181e-12    2.304724e-11\n",
       "   # Relative reduction 1.000000e-06 reached after 1 steps.\n",
       "   # Average reduction over 1 steps: 2.304724e-11\n",
       "   # #####  Iteration converged  #####\n",
       "\n",
       "flux_top (\t250\t)=\t-0.12414979390471\n",
       "flux_bot (\t250\t)=\t4.5089052144708e-08\n",
       "mass_bot (\t250\t)=\t1.472119555078e-06\n",
       "tlag=217.35084272002\n",
       "++++++ TIMESTEP 10 END   (current time: 250) ++++++\n",
       "++++++ TIMESTEP 11 BEGIN (current time: 250) ++++++\n",
       "++++++ Time step size: 25\n",
       "\n",
       "   # ########     Newton Solver     #######################\n",
       "   # ########  (Linear Solver: LU)  #######################\n",
       "   #   Iter      Defect         Rate \n",
       "   #    0:    7.420639e-02      -------\n",
       "   #    1:    1.959506e-12    2.640616e-11\n",
       "   # Relative reduction 1.000000e-06 reached after 1 steps.\n",
       "   # Average reduction over 1 steps: 2.640616e-11\n",
       "   # #####  Iteration converged  #####\n",
       "\n",
       "flux_top (\t275\t)=\t-0.11801555221359\n",
       "flux_bot (\t275\t)=\t8.9130334984114e-08\n",
       "mass_bot (\t275\t)=\t3.1498618941883e-06\n",
       "tlag=239.6600464954\n",
       "++++++ TIMESTEP 11 END   (current time: 275) ++++++\n",
       "++++++ TIMESTEP 12 BEGIN (current time: 275) ++++++\n",
       "++++++ Time step size: 25\n",
       "\n",
       "   # ########     Newton Solver     #######################\n",
       "   # ########  (Linear Solver: LU)  #######################\n",
       "   #   Iter      Defect         Rate \n",
       "   #    0:    6.880154e-02      -------\n",
       "   #    1:    1.876207e-12    2.726984e-11\n",
       "   # Relative reduction 1.000000e-06 reached after 1 steps.\n",
       "   # Average reduction over 1 steps: 2.726984e-11\n",
       "   # #####  Iteration converged  #####\n",
       "\n",
       "flux_top (\t300\t)=\t-0.11270701460635\n",
       "flux_bot (\t300\t)=\t1.6636948424354e-07\n",
       "mass_bot (\t300\t)=\t6.3436096345339e-06\n",
       "tlag=261.87035342823\n",
       "++++++ TIMESTEP 12 END   (current time: 300) ++++++\n",
       "++++++ TIMESTEP 13 BEGIN (current time: 300) ++++++\n",
       "++++++ Time step size: 25\n",
       "\n",
       "   # ########     Newton Solver     #######################\n",
       "   # ########  (Linear Solver: LU)  #######################\n",
       "   #   Iter      Defect         Rate \n",
       "   #    0:    6.423062e-02      -------\n",
       "   #    1:    1.898033e-12    2.955028e-11\n",
       "   # Relative reduction 1.000000e-06 reached after 1 steps.\n",
       "   # Average reduction over 1 steps: 2.955028e-11\n",
       "   # #####  Iteration converged  #####\n",
       "\n",
       "flux_top (\t325\t)=\t-0.10805341694617\n",
       "flux_bot (\t325\t)=\t2.9533942525941e-07\n",
       "mass_bot (\t325\t)=\t1.2114971003321e-05\n",
       "tlag=283.97949962935\n",
       "++++++ TIMESTEP 13 END   (current time: 325) ++++++\n",
       "++++++ TIMESTEP 14 BEGIN (current time: 325) ++++++\n",
       "++++++ Time step size: 25\n",
       "\n",
       "   # ########     Newton Solver     #######################\n",
       "   # ########  (Linear Solver: LU)  #######################\n",
       "   #   Iter      Defect         Rate \n",
       "   #    0:    6.030821e-02      -------\n",
       "   #    1:    1.840752e-12    3.052241e-11\n",
       "   # Relative reduction 1.000000e-06 reached after 1 steps.\n",
       "   # Average reduction over 1 steps: 3.052241e-11\n",
       "   # #####  Iteration converged  #####\n",
       "\n",
       "flux_top (\t350\t)=\t-0.1039299793697\n",
       "flux_bot (\t350\t)=\t5.0156722996923e-07\n",
       "mass_bot (\t350\t)=\t2.2076304193679e-05\n",
       "tlag=305.98535375799\n",
       "++++++ TIMESTEP 14 END   (current time: 350) ++++++\n",
       "++++++ TIMESTEP 15 BEGIN (current time: 350) ++++++\n",
       "++++++ Time step size: 25\n",
       "\n",
       "   # ########     Newton Solver     #######################\n",
       "   # ########  (Linear Solver: LU)  #######################\n",
       "   #   Iter      Defect         Rate \n",
       "   #    0:    5.690091e-02      -------\n",
       "   #    1:    1.981572e-12    3.482496e-11\n",
       "   # Relative reduction 1.000000e-06 reached after 1 steps.\n",
       "   # Average reduction over 1 steps: 3.482496e-11\n",
       "   # #####  Iteration converged  #####\n",
       "\n",
       "flux_top (\t375\t)=\t-0.10024304368219\n",
       "flux_bot (\t375\t)=\t8.1891266738131e-07\n",
       "mass_bot (\t375\t)=\t3.8582302910561e-05\n",
       "tlag=327.88593711227\n",
       "++++++ TIMESTEP 15 END   (current time: 375) ++++++\n",
       "++++++ TIMESTEP 16 BEGIN (current time: 375) ++++++\n",
       "++++++ Time step size: 25\n",
       "\n",
       "   # ########     Newton Solver     #######################\n",
       "   # ########  (Linear Solver: LU)  #######################\n",
       "   #   Iter      Defect         Rate \n",
       "   #    0:    5.391008e-02      -------\n",
       "   #    1:    1.958468e-12    3.632842e-11\n",
       "   # Relative reduction 1.000000e-06 reached after 1 steps.\n",
       "   # Average reduction over 1 steps: 3.632842e-11\n",
       "   # #####  Iteration converged  #####\n",
       "\n",
       "flux_top (\t400\t)=\t-0.096920698376551\n",
       "flux_bot (\t400\t)=\t1.29079808275e-06\n",
       "mass_bot (\t400\t)=\t6.4953687287202e-05\n",
       "tlag=349.67943619127\n",
       "++++++ TIMESTEP 16 END   (current time: 400) ++++++\n",
       "++++++ TIMESTEP 17 BEGIN (current time: 400) ++++++\n",
       "++++++ Time step size: 25\n",
       "\n",
       "   # ########     Newton Solver     #######################\n",
       "   # ########  (Linear Solver: LU)  #######################\n",
       "   #   Iter      Defect         Rate \n",
       "   #    0:    5.126114e-02      -------\n",
       "   #    1:    1.735812e-12    3.386215e-11\n",
       "   # Relative reduction 1.000000e-06 reached after 1 steps.\n",
       "   # Average reduction over 1 steps: 3.386215e-11\n",
       "   # #####  Iteration converged  #####\n",
       "\n",
       "flux_top (\t425\t)=\t-0.093906650788537\n",
       "flux_bot (\t425\t)=\t1.9712435762637e-06\n",
       "mass_bot (\t425\t)=\t0.00010572920802487\n",
       "tlag=371.36420922407\n",
       "++++++ TIMESTEP 17 END   (current time: 425) ++++++\n",
       "++++++ TIMESTEP 18 BEGIN (current time: 425) ++++++\n",
       "++++++ Time step size: 25\n",
       "\n",
       "   # ########     Newton Solver     #######################\n",
       "   # ########  (Linear Solver: LU)  #######################\n",
       "   #   Iter      Defect         Rate \n",
       "   #    0:    4.889656e-02      -------\n",
       "   #    1:    1.947541e-12    3.982981e-11\n",
       "   # Relative reduction 1.000000e-06 reached after 1 steps.\n",
       "   # Average reduction over 1 steps: 3.982981e-11\n",
       "   # #####  Iteration converged  #####\n",
       "\n",
       "flux_top (\t450\t)=\t-0.091156095515249\n",
       "flux_bot (\t450\t)=\t2.9256330079297e-06\n",
       "mass_bot (\t450\t)=\t0.00016694016532729\n",
       "tlag=392.93878799056\n",
       "++++++ TIMESTEP 18 END   (current time: 450) ++++++\n",
       "++++++ TIMESTEP 19 BEGIN (current time: 450) ++++++\n",
       "++++++ Time step size: 25\n",
       "\n",
       "   # ########     Newton Solver     #######################\n",
       "   # ########  (Linear Solver: LU)  #######################\n",
       "   #   Iter      Defect         Rate \n",
       "   #    0:    4.677125e-02      -------\n",
       "   #    1:    2.063522e-12    4.411946e-11\n",
       "   # Relative reduction 1.000000e-06 reached after 1 steps.\n",
       "   # Average reduction over 1 steps: 4.411946e-11\n",
       "   # #####  Iteration converged  #####\n",
       "\n",
       "flux_top (\t475\t)=\t-0.088632851895857\n",
       "flux_bot (\t475\t)=\t4.2311541753197e-06\n",
       "mass_bot (\t475\t)=\t0.00025640000511791\n",
       "tlag=414.40187606174\n",
       "++++++ TIMESTEP 19 END   (current time: 475) ++++++\n",
       "++++++ TIMESTEP 20 BEGIN (current time: 475) ++++++\n",
       "++++++ Time step size: 25\n",
       "\n",
       "   # ########     Newton Solver     #######################\n",
       "   # ########  (Linear Solver: LU)  #######################\n",
       "   #   Iter      Defect         Rate \n",
       "   #    0:    4.484930e-02      -------\n",
       "   #    1:    2.024604e-12    4.514237e-11\n",
       "   # Relative reduction 1.000000e-06 reached after 1 steps.\n",
       "   # Average reduction over 1 steps: 4.514237e-11\n",
       "   # #####  Iteration converged  #####\n",
       "\n",
       "flux_top (\t500\t)=\t-0.086307332576626\n",
       "flux_bot (\t500\t)=\t5.9768781536262e-06\n",
       "mass_bot (\t500\t)=\t0.00038400040922973\n",
       "tlag=435.75234439123\n",
       "++++++ TIMESTEP 20 END   (current time: 500) ++++++\n"
      ]
     },
     "execution_count": 15,
     "metadata": {},
     "output_type": "execute_result"
    }
   ],
   "source": [
    "local startTime = 0.0\n",
    "local endTime = 500.0\n",
    "local dt=25.0\n",
    "local dtMin=2.5\n",
    "util.SolveNonlinearTimeProblem(u, domainDisc, nlsolver, MyPostProcess, \"vtk/skin\",\n",
    "                            \"ImplEuler\", 1, startTime, endTime, dt, dtMin); "
   ]
  },
  {
   "cell_type": "code",
   "execution_count": null,
   "metadata": {},
   "outputs": [],
   "source": []
  },
  {
   "cell_type": "code",
   "execution_count": null,
   "metadata": {},
   "outputs": [],
   "source": []
  },
  {
   "cell_type": "code",
   "execution_count": null,
   "metadata": {},
   "outputs": [],
   "source": []
  },
  {
   "cell_type": "code",
   "execution_count": null,
   "metadata": {},
   "outputs": [],
   "source": []
  }
 ],
 "metadata": {
  "kernelspec": {
   "display_name": "UG4-Lua 0.1.0",
   "language": "lua",
   "name": "ug4_kernel"
  },
  "language_info": {
   "codemirror_mode": "lua",
   "file_extension": ".lua",
   "mimetype": "text/x-lua",
   "name": "lua",
   "version": "1.0"
  }
 },
 "nbformat": 4,
 "nbformat_minor": 2
}

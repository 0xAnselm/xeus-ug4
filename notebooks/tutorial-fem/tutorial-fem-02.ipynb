{
 "cells": [
  {
   "cell_type": "markdown",
   "metadata": {},
   "source": [
    "# Lösen eines FEM Problems mit UG4\n",
    "\n",
    "Wie schon im [vorherigen Beispiel](./tutorial-fem-01.ipynb) lösen wir \n",
    "$$\\nabla \\cdot[-D \\nabla u] = f $$\n",
    "mit Diffusionskonstante $D$ und Quelle $f$ sowie Dirichlet-Randwerten.\n",
    "\n",
    "\n",
    "### Initialisierung "
   ]
  },
  {
   "cell_type": "code",
   "execution_count": 1,
   "metadata": {},
   "outputs": [
    {
     "data": {
      "text/plain": [
       "* Initializing: paths... done, bridge... done, plugins... fail                 *\n"
      ]
     },
     "execution_count": 1,
     "metadata": {},
     "output_type": "execute_result"
    }
   ],
   "source": [
    "InitUG(2, AlgebraType(\"CPU\", 1));  -- Initialize world dimension dim=2 and default algebra type\n",
    "ug_load_script(\"ug_util.lua\")           -- Load utility scripts (e.g. from from ugcore/scripts)\n",
    "ug_load_script(\"util/refinement_util.lua\")"
   ]
  },
  {
   "cell_type": "markdown",
   "metadata": {},
   "source": [
    "## Problemdefinitionen\n",
    "\n",
    "Die Problemdefinitionen legen wir nun in verschiedene LUA-Tabellen ab. Im Folgenden wird dann mit diesen Tabellen gearbeitet:"
   ]
  },
  {
   "cell_type": "code",
   "execution_count": 2,
   "metadata": {},
   "outputs": [
    {
     "data": {
      "text/plain": []
     },
     "execution_count": 2,
     "metadata": {},
     "output_type": "execute_result"
    }
   ],
   "source": [
    "SQUARE_CONFIG =\n",
    "{\n",
    "    -- Geometrie\n",
    "    gridName= \"grids/unit_square_quad.ugx\", --\"grids/unit_square_tri.ugx\",\n",
    "    requiredSubsets = {\"Inner\", \"Boundary\"},\n",
    "    numRefs= 1,\n",
    "    \n",
    "    -- Randbedingungen\n",
    "    dirichletData = \n",
    "    {\n",
    "        subsets = \"Boundary\", callback = \"MyDirichletBndCallback\",  \n",
    "    },\n",
    "    \n",
    "    -- Parameter fuer PDE    \n",
    "    diffusion = 1.0,  -- D=1.0\n",
    "    source = 0.0,   -- f=0\n",
    "}\n",
    "\n",
    "-- Callback fuer Randbedingungen\n",
    "function MyDirichletBndCallback(x, y, t)\n",
    "    if (y==1) then \treturn true, 0.0 \n",
    "    elseif (y==0) then  return true, math.sin(math.pi*1*x)\n",
    "    else return false, 0.0 \n",
    "    end\n",
    "end\n",
    "\n",
    "\n",
    "CONFIG=SQUARE_CONFIG"
   ]
  },
  {
   "cell_type": "code",
   "execution_count": 3,
   "metadata": {},
   "outputs": [
    {
     "data": {
      "text/plain": []
     },
     "execution_count": 3,
     "metadata": {},
     "output_type": "execute_result"
    }
   ],
   "source": [
    "SQUARE_CONFIG2 =\n",
    "{\n",
    "    -- Geometrie\n",
    "    gridName= \"grids/unit_square_quad.ugx\",\n",
    "    requiredSubsets = {\"Inner\", \"Boundary\"},\n",
    "    numRefs= 3,\n",
    "    \n",
    "    -- Randbedingungen\n",
    "    dirichletData = \n",
    "    {\n",
    "        subsets = \"Boundary\", callback = \"MyDirichletBndCallback\",  \n",
    "    },\n",
    "    \n",
    "    diffusion = 1.0,\n",
    "    source = \"MySourceCallback\", \n",
    "    myref = \"MyRefCallback\",\n",
    "}\n",
    "\n",
    "-- Callback fuer Randbedingungen\n",
    "function MyDirichletBndCallback(x, y, t)\n",
    "    if (y==1) then \treturn true, 0.0 \n",
    "    elseif (y==0) then  return true, math.sin(math.pi*1*x)\n",
    "    else return false, 0.0 \n",
    "    end\n",
    "end\n",
    "\n",
    "-- Callback fuer Randbedingungen\n",
    "function MyDirichletBndCallback(x, y, t)\n",
    "     return true, 0.0 \n",
    "end\n",
    "\n",
    "-- Callback fuer rechte Seite\n",
    "function MySourceCallback(x, y, t)\n",
    "    local mu = 1.0\n",
    "    local nu = 4.0\n",
    "    local scale =  (mu*mu + nu*nu)*(math.pi)*(math.pi)\n",
    "    return scale*math.sin(math.pi*mu*x)* math.sin(math.pi*nu*y)\n",
    "end\n",
    "\n",
    "\n",
    "-- Callback fuer Referenz\n",
    "function MyRefCallback(x, y, t)\n",
    "    local mu = 1.0\n",
    "    local nu = 4.0\n",
    "    return math.sin(math.pi*mu*x)* math.sin(math.pi*nu*y)\n",
    "end\n",
    "\n",
    "-- CONFIG=SQUARE_CONFIG2"
   ]
  },
  {
   "cell_type": "code",
   "execution_count": 4,
   "metadata": {},
   "outputs": [
    {
     "data": {
      "text/plain": []
     },
     "execution_count": 4,
     "metadata": {},
     "output_type": "execute_result"
    }
   ],
   "source": [
    "SECTOR_CONFIG =\n",
    "{\n",
    "    gridName= \"grids/sector_ref0.ugx\",\n",
    "    requiredSubsets = {\"Inner\", \"circle\", \"cut\"},\n",
    "    numRefs= 3,\n",
    "    \n",
    "    dirichletData = \n",
    "    {\n",
    "        subsets = \"circle, cut\", callback = \"SectorDirichletSol\",  \n",
    "    },\n",
    "    \n",
    "    diffusion = 1.0,\n",
    "    source = 0.0, \n",
    "    myref = \"SectorDirichletSol\"\n",
    "}\n",
    "\n",
    "-- callback function boundary values (only the ones matching 'dim' are used)\n",
    "function SectorDirichletSol(x, y, t, si)\n",
    "    local r = math.sqrt(x*x+y*y);\n",
    "    local phi = math.atan2(y,x);\n",
    "    if (phi<0) then phi = phi + 2*math.pi; end\n",
    "    val=math.pow(r,(2/3))*math.sin(phi/3.0*2);\n",
    "    return val\n",
    "end\n",
    "-- CONFIG = SECTOR_CONFIG\n"
   ]
  },
  {
   "cell_type": "markdown",
   "metadata": {},
   "source": [
    "## Rechengebiet\n",
    "- Einlesen aus einer Datei:"
   ]
  },
  {
   "cell_type": "code",
   "execution_count": 5,
   "metadata": {},
   "outputs": [
    {
     "data": {
      "text/plain": []
     },
     "execution_count": 5,
     "metadata": {},
     "output_type": "execute_result"
    }
   ],
   "source": [
    "dom = Domain()\n",
    "LoadDomain(dom, CONFIG.gridName)"
   ]
  },
  {
   "cell_type": "markdown",
   "metadata": {},
   "source": [
    "- Test: Sind alle Subsets vorhanden?"
   ]
  },
  {
   "cell_type": "code",
   "execution_count": 6,
   "metadata": {},
   "outputs": [
    {
     "data": {
      "text/plain": [
       "true\n"
      ]
     },
     "execution_count": 6,
     "metadata": {},
     "output_type": "execute_result"
    }
   ],
   "source": [
    "print(util.CheckSubsets(dom, CONFIG.requiredSubsets))"
   ]
  },
  {
   "cell_type": "markdown",
   "metadata": {},
   "source": [
    "- Uniforme Verfeinerung"
   ]
  },
  {
   "cell_type": "code",
   "execution_count": 7,
   "metadata": {},
   "outputs": [
    {
     "data": {
      "text/plain": [
       "1 "
      ]
     },
     "execution_count": 7,
     "metadata": {},
     "output_type": "execute_result"
    }
   ],
   "source": [
    "local refiner = GlobalDomainRefiner(dom)\n",
    "for i=1,CONFIG.numRefs do\n",
    "    write(i .. \" \")\n",
    "    refiner:refine()\n",
    "end"
   ]
  },
  {
   "cell_type": "markdown",
   "metadata": {},
   "source": [
    "- Alternativ geht es auch ganz bequem in einer Zeile:"
   ]
  },
  {
   "cell_type": "code",
   "execution_count": 8,
   "metadata": {},
   "outputs": [
    {
     "data": {
      "text/plain": [
       "Loading Domain grids/unit_square_quad.ugx ... done.\n",
       "Performing integrity check on domain ... done.\n",
       "Refining(1): 1 done.\n"
      ]
     },
     "execution_count": 8,
     "metadata": {},
     "output_type": "execute_result"
    }
   ],
   "source": [
    "dom = util.CreateDomain(CONFIG.gridName, CONFIG.numRefs, CONFIG.requiredSubsets)"
   ]
  },
  {
   "cell_type": "markdown",
   "metadata": {},
   "source": [
    "## Ansatzraum\n",
    "- Verwende Polynome 1. Grades:"
   ]
  },
  {
   "cell_type": "code",
   "execution_count": 9,
   "metadata": {},
   "outputs": [
    {
     "data": {
      "text/plain": [
       "| ---------------------------------------------------------------------------- |\n",
       "|  Number of DoFs (All Procs)                                                  |\n",
       "|  Algebra: Block 1 (divide by 1 for #Index)                                   |\n",
       "|                                                                              |\n",
       "|    GridLevel   |       Domain |     0: Inner |  1: Boundary                  |\n",
       "| ---------------------------------------------------------------------------- |\n",
       "| (lev,    0)    |            9 |            1 |            8 |\n",
       "| (lev,    1)    |           25 |            9 |           16 |\n",
       "| (lev,    0, g) |            9 |            1 |            8 |\n",
       "| (lev,    1, g) |           25 |            9 |           16 |\n",
       "| (surf, top)    |           25 |            9 |           16 |\n",
       "| ---------------------------------------------------------------------------- |\n",
       "| For Legend and Options: print_statistic(\"legend\").                           |\n",
       "| ---------------------------------------------------------------------------- |\n"
      ]
     },
     "execution_count": 9,
     "metadata": {},
     "output_type": "execute_result"
    }
   ],
   "source": [
    "-- Setup for FEM approximation space.\n",
    "approxSpace = ApproximationSpace(dom)\n",
    "approxSpace:add_fct(\"c\", \"Lagrange\", 1)  -- Linear ansatz functions\n",
    "\n",
    "-- More inits.\n",
    "approxSpace:init_levels()\n",
    "approxSpace:init_top_surface()\n",
    "approxSpace:print_statistic()"
   ]
  },
  {
   "cell_type": "markdown",
   "metadata": {},
   "source": [
    "## Diskretisierung\n",
    "\n",
    "Erzeuge Objekt für eine **Elementdiskretisierung** für die Konvektions-Diffusionsgleichung."
   ]
  },
  {
   "cell_type": "code",
   "execution_count": 10,
   "metadata": {},
   "outputs": [
    {
     "data": {
      "text/plain": []
     },
     "execution_count": 10,
     "metadata": {},
     "output_type": "execute_result"
    }
   ],
   "source": [
    "elemDisc = ConvectionDiffusion(\"c\", \"Inner\", \"fe\")\n",
    "elemDisc:set_diffusion(CONFIG.diffusion)\n",
    "\n",
    "if (CONFIG.source) then\n",
    "    elemDisc:set_source(CONFIG.source)\n",
    "end"
   ]
  },
  {
   "cell_type": "markdown",
   "metadata": {},
   "source": [
    "Erzeuge Objekt für **Randbedingungen**:"
   ]
  },
  {
   "cell_type": "code",
   "execution_count": 11,
   "metadata": {},
   "outputs": [
    {
     "data": {
      "text/plain": []
     },
     "execution_count": 11,
     "metadata": {},
     "output_type": "execute_result"
    }
   ],
   "source": [
    "dirichletBND = DirichletBoundary()\n",
    "dirichletBND:add(CONFIG.dirichletData.callback, \"c\", CONFIG.dirichletData.subsets)"
   ]
  },
  {
   "cell_type": "markdown",
   "metadata": {},
   "source": [
    "Füge beides zu einer Gebietsdiskretisierung hinzu:"
   ]
  },
  {
   "cell_type": "code",
   "execution_count": 12,
   "metadata": {},
   "outputs": [
    {
     "data": {
      "text/plain": []
     },
     "execution_count": 12,
     "metadata": {},
     "output_type": "execute_result"
    }
   ],
   "source": [
    "domainDisc = DomainDiscretization(approxSpace)\n",
    "domainDisc:add(elemDisc)\n",
    "domainDisc:add(dirichletBND)"
   ]
  },
  {
   "cell_type": "markdown",
   "metadata": {},
   "source": [
    "## Konfiguration eines iterativen Lösers\n",
    "\n",
    "Ein Mehrgitterverfahren hat lediglich lineare Komplexität"
   ]
  },
  {
   "cell_type": "code",
   "execution_count": 13,
   "metadata": {},
   "outputs": [
    {
     "data": {
      "text/plain": []
     },
     "execution_count": 13,
     "metadata": {},
     "output_type": "execute_result"
    }
   ],
   "source": [
    "-- set up solver (using 'util/solver_util.lua')\n",
    "local solverDesc = {\n",
    "    type = \"bicgstab\",\n",
    "    precond = {\n",
    "        type = \"gmg\",\n",
    "        approxSpace = approxSpace,\n",
    "        smoother = \"sgs\",\n",
    "        baseSolver = \"lu\"\n",
    "    }\n",
    "}\n",
    "solver = util.solver.CreateSolver(solverDesc)"
   ]
  },
  {
   "cell_type": "markdown",
   "metadata": {},
   "source": [
    "## Assembliere und löse LGS"
   ]
  },
  {
   "cell_type": "code",
   "execution_count": 14,
   "metadata": {},
   "outputs": [
    {
     "data": {
      "text/plain": [
       "\n",
       "   % %%%%%%%%             BiCGStab              %%%%%%%%%%%\n",
       "   % %%%%%%%%   (Precond: Geometric MultiGrid)  %%%%%%%%%%%\n",
       "   %   Iter      Defect         Rate \n",
       "   %    0:    0.000000e+00      -------\n",
       "   % Absolute defect norm 1.000000e-12 reached after 0 steps.\n",
       "   % Average reduction over 0 steps: nan\n",
       "   % %%%%%  Iteration converged  %%%%%\n",
       "\n"
      ]
     },
     "execution_count": 14,
     "metadata": {},
     "output_type": "execute_result"
    }
   ],
   "source": [
    "A = AssembledLinearOperator(domainDisc)\n",
    "u = GridFunction(approxSpace)\n",
    "b = GridFunction(approxSpace)\n",
    "u:set(0.0)\n",
    "\n",
    "\n",
    "domainDisc:assemble_linear(A, b)\n",
    "domainDisc:adjust_solution(u)\n",
    "\n",
    "solver:init(A, u)\n",
    "solver:apply(u, b)"
   ]
  },
  {
   "cell_type": "markdown",
   "metadata": {},
   "source": [
    "- Ausgabe als vtk bzw. vec-Datei"
   ]
  },
  {
   "cell_type": "code",
   "execution_count": 15,
   "metadata": {},
   "outputs": [
    {
     "data": {
      "text/plain": []
     },
     "execution_count": 15,
     "metadata": {},
     "output_type": "execute_result"
    }
   ],
   "source": [
    "local solFileName = \"u_solution\"\n",
    "WriteGridFunctionToVTK(u, solFileName)\n",
    "SaveVectorForConnectionViewer(u, solFileName .. \".vec\")"
   ]
  },
  {
   "cell_type": "markdown",
   "metadata": {},
   "source": [
    "## Fehleranalyse\n",
    "L2-Norm $$\\|u-u_h\\|_0 := \\sqrt{\\int_\\Omega (u-u_h)^2 }$$"
   ]
  },
  {
   "cell_type": "code",
   "execution_count": 16,
   "metadata": {},
   "outputs": [
    {
     "data": {
      "text/plain": []
     },
     "execution_count": 16,
     "metadata": {},
     "output_type": "execute_result"
    }
   ],
   "source": [
    "if (CONFIG.myref) then\n",
    "    err0=L2Error(CONFIG.myref,  u, \"c\", 1.0, 4)\n",
    "    print(err0)\n",
    "end"
   ]
  },
  {
   "cell_type": "markdown",
   "metadata": {},
   "source": [
    " H1-Norm $$\\|u-u_h\\|_1 := \\sqrt{\\int_\\Omega (u-u_h)^2+ (\\nabla (u-u_h))^2 }$$\n"
   ]
  },
  {
   "cell_type": "code",
   "execution_count": 17,
   "metadata": {
    "scrolled": true
   },
   "outputs": [
    {
     "data": {
      "text/plain": []
     },
     "execution_count": 17,
     "metadata": {},
     "output_type": "execute_result"
    }
   ],
   "source": [
    "if (CONFIG.myref) then\n",
    "    uref = u:clone()\n",
    "    Interpolate(CONFIG.myref, uref, \"c\")\n",
    "    err1=H1Error(uref, \"c\",  u, \"c\", 1.0, \"Inner\")\n",
    "    print(err1)\n",
    "end"
   ]
  },
  {
   "cell_type": "code",
   "execution_count": 18,
   "metadata": {},
   "outputs": [
    {
     "data": {
      "text/plain": []
     },
     "execution_count": 18,
     "metadata": {},
     "output_type": "execute_result"
    }
   ],
   "source": [
    "--[[ Append to file\n",
    "local file = io.open(\"results.txt\", \"w\") -- opens a file in append mode\n",
    "io.output(file) -- \n",
    "io.write(err0..\"\\t\"..err1)\n",
    "io.close(file)\n",
    "--]] "
   ]
  },
  {
   "cell_type": "markdown",
   "metadata": {},
   "source": [
    "### Weitere Ausgaben"
   ]
  },
  {
   "cell_type": "code",
   "execution_count": 19,
   "metadata": {},
   "outputs": [
    {
     "data": {
      "text/plain": [
       "writing stiffness matrix to A_matrix.mat\n",
       "writing rhs to 'b_rhs.*'\n",
       "done\n"
      ]
     },
     "execution_count": 19,
     "metadata": {},
     "output_type": "execute_result"
    }
   ],
   "source": [
    "local matFileName = \"A_matrix.mat\"\n",
    "print(\"writing stiffness matrix to \" .. matFileName)\n",
    "SaveMatrixForConnectionViewer(u, A, matFileName)\n",
    "\n",
    "local rhsFileName = \"b_rhs\"\n",
    "print(\"writing rhs to '\" .. rhsFileName .. \".*'\")\n",
    "SaveVectorForConnectionViewer(b, rhsFileName.. \".vec\")\n",
    "\n",
    "os.execute('gnuplot < test.gnuplot ')\n",
    "print(\"done\")"
   ]
  },
  {
   "cell_type": "code",
   "execution_count": null,
   "metadata": {},
   "outputs": [],
   "source": []
  },
  {
   "cell_type": "code",
   "execution_count": null,
   "metadata": {},
   "outputs": [],
   "source": []
  },
  {
   "cell_type": "code",
   "execution_count": null,
   "metadata": {},
   "outputs": [],
   "source": []
  },
  {
   "cell_type": "code",
   "execution_count": null,
   "metadata": {},
   "outputs": [],
   "source": []
  }
 ],
 "metadata": {
  "kernelspec": {
   "display_name": "UG4-Lua 0.1.0",
   "language": "lua",
   "name": "ug4_kernel"
  },
  "language_info": {
   "codemirror_mode": "lua",
   "file_extension": ".lua",
   "mimetype": "text/x-lua",
   "name": "lua",
   "version": "1.0"
  }
 },
 "nbformat": 4,
 "nbformat_minor": 2
}
